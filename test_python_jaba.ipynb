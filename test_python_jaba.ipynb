{
 "cells": [
  {
   "cell_type": "markdown",
   "metadata": {},
   "source": [
    "# Тестовое по Python"
   ]
  },
  {
   "cell_type": "markdown",
   "metadata": {},
   "source": [
    "В качестве тестового предлагается несколько задач на pandas, numpy и matplotlib - базовые библиотеки, используемые в ходе ML разработки\n",
    "\n",
    "Если вы не встречались с этими библиотеками раньше, то это отличный повод их изучить до или во время выполнения заданий"
   ]
  },
  {
   "cell_type": "markdown",
   "metadata": {},
   "source": [
    "## numpy"
   ]
  },
  {
   "cell_type": "code",
   "execution_count": 1,
   "metadata": {},
   "outputs": [],
   "source": [
    "import numpy as np"
   ]
  },
  {
   "cell_type": "markdown",
   "metadata": {},
   "source": [
    "### 1. Cоздание и индексация n-мерных массивов\n",
    "\n",
    "Создать двухмерный массив случайных чисел [-9; 9] размера (10, 10). Заменить все -3<x<5 элементы такого массива на единицы, показать массив до и после замены"
   ]
  },
  {
   "cell_type": "code",
   "execution_count": 2,
   "metadata": {},
   "outputs": [
    {
     "data": {
      "text/plain": [
       "array([[-6, -2,  2, -5,  6, -6,  9, -1,  8,  7],\n",
       "       [ 1, -7, -1, -3, -5,  0, -6, -4, -5,  5],\n",
       "       [-5, -6, -3,  7, -9, -2, -1,  2,  1,  5],\n",
       "       [ 2, -4,  4,  4,  5, -3, -6, -2, -2, -6],\n",
       "       [ 1,  0,  3, -3, -5, -5, -4, -1,  2,  5],\n",
       "       [ 1,  5, -6, -9,  7,  6,  4, -4, -6, -3],\n",
       "       [-3,  4,  0,  6,  6, -9, -6, -5,  2, -1],\n",
       "       [ 0, -8,  5,  9,  6, -9, -8, -5,  8,  5],\n",
       "       [ 3, -4, -5, -6, -5,  7,  8,  1, -4,  1],\n",
       "       [-5, -9,  5, -4,  0,  4,  1,  7,  9, -8]])"
      ]
     },
     "execution_count": 2,
     "metadata": {},
     "output_type": "execute_result"
    }
   ],
   "source": [
    "array = np.random.randint(-9, 10, (10, 10))\n",
    "array"
   ]
  },
  {
   "cell_type": "code",
   "execution_count": 63,
   "metadata": {},
   "outputs": [
    {
     "data": {
      "text/plain": [
       "array([[-7,  1, -4, -6,  1,  1,  8,  5,  1, -9],\n",
       "       [-5,  7, -8,  1, -7,  1,  1,  1,  5, -3],\n",
       "       [ 1, -7,  7,  1, -9,  1,  1, -5,  1,  8],\n",
       "       [ 1,  5, -9,  9,  1,  1,  1,  1, -4,  8],\n",
       "       [ 1,  1,  1,  5,  1, -7,  1,  1,  6,  9],\n",
       "       [ 1, -5,  5,  1, -5,  1,  6, -5, -4,  1],\n",
       "       [ 1,  1,  1,  5,  1,  8,  1,  1, -3,  1],\n",
       "       [-9,  1, -7,  6,  1, -5,  5,  1, -4,  1],\n",
       "       [-8,  1,  1, -6,  7,  1,  1,  1,  1, -9],\n",
       "       [ 1, -6, -3,  1,  1, -9,  1, -4,  1,  1]])"
      ]
     },
     "execution_count": 63,
     "metadata": {},
     "output_type": "execute_result"
    }
   ],
   "source": [
    "sarray = np.select([(array <= -3) | (array >= 5)], [array], default = 1)\n",
    "sarray"
   ]
  },
  {
   "cell_type": "markdown",
   "metadata": {},
   "source": [
    "### 2. Умножение матриц\n",
    "Даны вектор и матрица (размер задайте сами), найти в матрице столбец(=вектор), имеющий минимальное косинусное расстояние с исходным вектором. Результат вывести, проверить корректность расчёта"
   ]
  },
  {
   "cell_type": "code",
   "execution_count": 23,
   "metadata": {
    "scrolled": true
   },
   "outputs": [
    {
     "name": "stdout",
     "output_type": "stream",
     "text": [
      "Matrix:\n",
      " [[-5  3  3  7  3 -6 -2  3  8  7]\n",
      " [-5 -2  7 -1  1 -3  4  2 -6  6]\n",
      " [ 0  3  5 -6 -9  1  1 -9  6  9]\n",
      " [-7 -5  3 -1 -8 -2  7 -9  6 -6]\n",
      " [ 8 -4  8 -1  4 -1  2 -4  9 -8]\n",
      " [ 9 -6 -6  6  4 -2  8 -8 -2 -7]\n",
      " [ 6  8  6  2 -6  4 -3 -7 -5  3]\n",
      " [ 9  1 -4 -1 -6 -7  5 -7 -4 -9]\n",
      " [ 4 -4  5  6  4  7 -9  0  9  5]\n",
      " [-8  8  5  1 -8  0  6 -8  4 -3]] \n",
      "\n",
      "Vector:\n",
      " [ 3 -3  3 -2  8 -9 -1  8 -6  4] \n",
      "\n",
      "min cos dist = 0.5811203139920949\n",
      "Column (vector) in matrix with min cos dist:\n",
      " [ 3 -2  3 -5 -4 -6  8  1 -4  8]\n"
     ]
    }
   ],
   "source": [
    "def minCosDist(matrix, vector):\n",
    "    cosine = np.ones(len(matrix))\n",
    "    s = (matrix * vector).sum(axis=1)\n",
    "    v1 = (matrix * matrix).sum(axis=1)\n",
    "    v2 = (vector ** 2).sum(axis=0)\n",
    "    return cosine - s/(v1 ** 0.5 * v2 ** 0.5)\n",
    "        \n",
    "\n",
    "vector = np.random.randint(-9, 9, 10)\n",
    "print('Matrix:\\n', array, '\\n')\n",
    "print('Vector:\\n', vector, '\\n')\n",
    "\n",
    "cosin1 = minCosDist(array.T, vector)\n",
    "    \n",
    "mini = np.argmin(cosin1)\n",
    "\n",
    "print(\"min cos dist =\", cosin1[mini])\n",
    "print(\"Column (vector) in matrix with min cos dist:\\n\", array.T[mini])"
   ]
  },
  {
   "cell_type": "code",
   "execution_count": 24,
   "metadata": {},
   "outputs": [
    {
     "name": "stdout",
     "output_type": "stream",
     "text": [
      "[0.98052646 0.58112031 0.77172028 1.4352947  1.33950808 1.42242605\n",
      " 0.87628574 1.1344609  0.78541938 1.21190808] \n",
      "\n",
      "[0.9805264587387671, 0.581120313992095, 0.7717202820336658, 1.4352946994733717, 1.3395080829959187, 1.422426048897513, 0.8762857378698147, 1.134460901993429, 0.7854193768667505, 1.2119080826448485]\n"
     ]
    }
   ],
   "source": [
    "# ПРОВЕРКА РАБОТОСПОСОБНОСТИ ФУНКЦИИ ПО НАХОЖДЕНИЮ КОСИНУСНОГО РАССТОЯНИЯ\n",
    "\n",
    "from scipy import spatial\n",
    "cosin2 = []\n",
    "for i in array.T:\n",
    "    cosin2.append(spatial.distance.cosine(i, vector))\n",
    "print(cosin1, \"\\n\")\n",
    "print(cosin2)"
   ]
  },
  {
   "cell_type": "markdown",
   "metadata": {},
   "source": [
    "### 3. Умножение векторов\n",
    "Пусть импульс - это функция, определённая на R принимающая значение 1 на [a; b], а на остальной области определения равная нулю\n",
    "\n",
    "Есть два импульса: \n",
    "    - [4, 5]\n",
    "    - [1, 2], но его область определения ограничена - [0, 3]\n",
    "   \n",
    "Изучить операцию [свёртки](https://ru.wikipedia.org/wiki/Свёртка_(математический_анализ)) и сделать свёртку первого импульса вторым, показать результат свёртки. Первая гифка приведённой статьи в помощь"
   ]
  },
  {
   "cell_type": "code",
   "execution_count": 76,
   "metadata": {},
   "outputs": [
    {
     "data": {
      "text/plain": [
       "array([0.  , 0.  , 0.  , 0.  , 0.  , 0.  , 0.  , 0.  , 0.  , 0.  , 0.  ,\n",
       "       0.  , 0.  , 0.  , 0.  , 0.  , 0.  , 0.  , 0.  , 0.  , 0.  , 0.  ,\n",
       "       0.  , 0.  , 0.  , 0.  , 0.  , 0.  , 0.  , 0.  , 0.  , 0.  , 0.  ,\n",
       "       0.  , 0.  , 0.  , 0.  , 0.  , 0.  , 0.  , 0.  , 0.  , 0.  , 0.  ,\n",
       "       0.  , 0.  , 0.  , 0.  , 0.  , 0.  , 0.  , 0.  , 0.  , 0.  , 0.  ,\n",
       "       0.  , 0.  , 0.  , 0.  , 0.  , 0.  , 0.  , 0.  , 0.  , 0.  , 0.  ,\n",
       "       0.  , 0.  , 0.  , 0.  , 0.  , 0.05, 0.1 , 0.15, 0.2 , 0.25, 0.3 ,\n",
       "       0.35, 0.4 , 0.45, 0.5 , 0.55, 0.6 , 0.65, 0.7 , 0.75, 0.8 , 0.85,\n",
       "       0.9 , 0.95, 1.  , 0.95, 0.9 , 0.85, 0.8 , 0.75, 0.7 , 0.65, 0.6 ,\n",
       "       0.55, 0.5 , 0.45, 0.4 , 0.35, 0.3 , 0.25, 0.2 , 0.15, 0.1 , 0.05,\n",
       "       0.  , 0.  , 0.  , 0.  , 0.  , 0.  , 0.  , 0.  , 0.  , 0.  , 0.  ,\n",
       "       0.  , 0.  , 0.  , 0.  , 0.  , 0.  , 0.  , 0.  , 0.  , 0.  , 0.  ,\n",
       "       0.  , 0.  , 0.  , 0.  , 0.  , 0.  , 0.  , 0.  , 0.  , 0.  , 0.  ,\n",
       "       0.  , 0.  , 0.  , 0.  , 0.  , 0.  , 0.  , 0.  , 0.  , 0.  , 0.  ,\n",
       "       0.  , 0.  , 0.  , 0.  , 0.  , 0.  , 0.  , 0.  , 0.  , 0.  , 0.  ,\n",
       "       0.  , 0.  , 0.  , 0.  , 0.  , 0.  , 0.  , 0.  , 0.  , 0.  , 0.  ,\n",
       "       0.  , 0.  , 0.  , 0.  , 0.  , 0.  , 0.  , 0.  , 0.  , 0.  , 0.  ,\n",
       "       0.  , 0.  , 0.  , 0.  , 0.  , 0.  , 0.  , 0.  , 0.  , 0.  , 0.  ,\n",
       "       0.  , 0.  ])"
      ]
     },
     "execution_count": 76,
     "metadata": {},
     "output_type": "execute_result"
    }
   ],
   "source": [
    "step = 0.05\n",
    "\n",
    "ax = np.linspace(0, 10, int(10/step))\n",
    "bx = np.linspace(0, 3, int(3/step))\n",
    "ay = np.select([(ax < 4) | (ax > 5)], [ax*0], default = 1)\n",
    "by = np.select([(bx < 1) | (bx > 2)], [bx*0], default = 1)\n",
    "\n",
    "cx = ax = np.linspace(0, 10, int(10/step))\n",
    "cy = np.convolve(ay, by, mode=\"same\") * step\n",
    "cy"
   ]
  },
  {
   "cell_type": "markdown",
   "metadata": {},
   "source": [
    "## Pandas"
   ]
  },
  {
   "cell_type": "code",
   "execution_count": 67,
   "metadata": {},
   "outputs": [],
   "source": [
    "import pandas as pd"
   ]
  },
  {
   "cell_type": "markdown",
   "metadata": {},
   "source": [
    "Для выполнения задания используйте классический датасет [Titanic](https://www.kaggle.com/c/titanic/data)"
   ]
  },
  {
   "cell_type": "markdown",
   "metadata": {},
   "source": [
    "### 1. Groupby\n",
    "\n",
    "Сгруппировать пассажиров по полу, подумать над смыслом полученных значений в сгруппированной табличке"
   ]
  },
  {
   "cell_type": "code",
   "execution_count": 68,
   "metadata": {},
   "outputs": [
    {
     "data": {
      "text/html": [
       "<div>\n",
       "<style scoped>\n",
       "    .dataframe tbody tr th:only-of-type {\n",
       "        vertical-align: middle;\n",
       "    }\n",
       "\n",
       "    .dataframe tbody tr th {\n",
       "        vertical-align: top;\n",
       "    }\n",
       "\n",
       "    .dataframe thead th {\n",
       "        text-align: right;\n",
       "    }\n",
       "</style>\n",
       "<table border=\"1\" class=\"dataframe\">\n",
       "  <thead>\n",
       "    <tr style=\"text-align: right;\">\n",
       "      <th></th>\n",
       "      <th>PassengerId</th>\n",
       "      <th>Survived</th>\n",
       "      <th>Pclass</th>\n",
       "      <th>Age</th>\n",
       "      <th>SibSp</th>\n",
       "      <th>Parch</th>\n",
       "      <th>Fare</th>\n",
       "    </tr>\n",
       "    <tr>\n",
       "      <th>Sex</th>\n",
       "      <th></th>\n",
       "      <th></th>\n",
       "      <th></th>\n",
       "      <th></th>\n",
       "      <th></th>\n",
       "      <th></th>\n",
       "      <th></th>\n",
       "    </tr>\n",
       "  </thead>\n",
       "  <tbody>\n",
       "    <tr>\n",
       "      <th>female</th>\n",
       "      <td>431.028662</td>\n",
       "      <td>0.742038</td>\n",
       "      <td>2.159236</td>\n",
       "      <td>27.915709</td>\n",
       "      <td>0.694268</td>\n",
       "      <td>0.649682</td>\n",
       "      <td>44.479818</td>\n",
       "    </tr>\n",
       "    <tr>\n",
       "      <th>male</th>\n",
       "      <td>454.147314</td>\n",
       "      <td>0.188908</td>\n",
       "      <td>2.389948</td>\n",
       "      <td>30.726645</td>\n",
       "      <td>0.429809</td>\n",
       "      <td>0.235702</td>\n",
       "      <td>25.523893</td>\n",
       "    </tr>\n",
       "  </tbody>\n",
       "</table>\n",
       "</div>"
      ],
      "text/plain": [
       "        PassengerId  Survived    Pclass        Age     SibSp     Parch  \\\n",
       "Sex                                                                      \n",
       "female   431.028662  0.742038  2.159236  27.915709  0.694268  0.649682   \n",
       "male     454.147314  0.188908  2.389948  30.726645  0.429809  0.235702   \n",
       "\n",
       "             Fare  \n",
       "Sex                \n",
       "female  44.479818  \n",
       "male    25.523893  "
      ]
     },
     "execution_count": 68,
     "metadata": {},
     "output_type": "execute_result"
    }
   ],
   "source": [
    "data = pd.read_csv(\"train.csv\")\n",
    "data.groupby([\"Sex\"]).mean()"
   ]
  },
  {
   "cell_type": "markdown",
   "metadata": {},
   "source": [
    "### Вывод:\n",
    "1) Выживаемость у женщин гораздо выше, чем у мужчин\n",
    "2) В среднем женщины на борту были моложе мужчин\n",
    "3) У женщин было больше родных и родственников на борту\n",
    "4) Женщины в среденм потратили на поездку на 20$ больше мужчин"
   ]
  },
  {
   "cell_type": "markdown",
   "metadata": {},
   "source": [
    "### 2. Средние\n",
    "\n",
    "Посчитать среднюю цену билета по датасету, найти 75ый [процентиль](https://ru.wikipedia.org/wiki/Квантиль) цен в датасете"
   ]
  },
  {
   "cell_type": "code",
   "execution_count": 69,
   "metadata": {},
   "outputs": [
    {
     "name": "stdout",
     "output_type": "stream",
     "text": [
      "32.2042079685746\n",
      "31.0\n"
     ]
    }
   ],
   "source": [
    "print(data.Fare.mean())\n",
    "perc = np.percentile(data.Fare, 75)\n",
    "print(perc)"
   ]
  },
  {
   "cell_type": "markdown",
   "metadata": {},
   "source": [
    "### 3. Фильтрация\n",
    "\n",
    "Разбить таблицу по 75ому процентилю цены билета, сравнить выживаемость в первой и второй половине"
   ]
  },
  {
   "cell_type": "code",
   "execution_count": 70,
   "metadata": {},
   "outputs": [
    {
     "name": "stdout",
     "output_type": "stream",
     "text": [
      "0.581081081081081 0.3183856502242152\n"
     ]
    }
   ],
   "source": [
    "data_rich = data[data.Fare > perc]\n",
    "data_poor = data[data.Fare <= perc]\n",
    "print(data_rich.Survived.mean(), data_poor.Survived.mean(),)"
   ]
  },
  {
   "cell_type": "markdown",
   "metadata": {},
   "source": [
    "# Matplotlib"
   ]
  },
  {
   "cell_type": "code",
   "execution_count": 71,
   "metadata": {},
   "outputs": [],
   "source": [
    "import matplotlib.pyplot as plt\n",
    "%matplotlib inline"
   ]
  },
  {
   "cell_type": "markdown",
   "metadata": {},
   "source": [
    "### 1. Гистограммы\n",
    "\n",
    "- Постройте гистограмму по массиву из 200 случайных чисел\n",
    "- Сделайте то же, но с 200 случайными числами, имеющими нормальное распределение\n",
    "- (Со звёздочкой) Сгенерируйте нормальное распределение, не используя функции генерации чисел с нормальным распределением"
   ]
  },
  {
   "cell_type": "code",
   "execution_count": 72,
   "metadata": {},
   "outputs": [
    {
     "data": {
      "image/png": "[encoded data removed]",
      "text/plain": [
       "<Figure size 432x432 with 2 Axes>"
      ]
     },
     "metadata": {
      "needs_background": "light"
     },
     "output_type": "display_data"
    }
   ],
   "source": [
    "rand_array = np.random.randint(-8, 9, 200)\n",
    "nrand_array = 3 * np.random.randn(200)\n",
    "\n",
    "fig, axs = plt.subplots(2, 1, tight_layout=True)\n",
    "axs[0].hist(x=rand_array, bins=17, color='#ffa100', rwidth=0.85)\n",
    "axs[0].grid(axis='y')\n",
    "axs[0].set_xlabel('Value')\n",
    "axs[0].set_ylabel('Frequency')\n",
    "axs[0].set_title('Random without normal distribution')\n",
    "axs[0].set_xticks(np.arange(-8, 9))\n",
    "axs[0].set_yticks(np.arange(0, 20, 5))\n",
    "axs[1].hist(x=nrand_array, bins=17, color='#00a1ff', rwidth=0.85)\n",
    "axs[1].grid(axis='y')\n",
    "axs[1].set_xlabel('Value')\n",
    "axs[1].set_ylabel('Frequency')\n",
    "axs[1].set_xticks(np.arange(-8, 9))\n",
    "axs[1].set_title('Random with normal distribution (mu = 0, sigma = 3)')\n",
    "\n",
    "fig.set_figheight(6)\n",
    "plt.show()"
   ]
  },
  {
   "cell_type": "markdown",
   "metadata": {},
   "source": [
    "### 2. Проиллюстрируйте задачи по numpy"
   ]
  },
  {
   "cell_type": "code",
   "execution_count": 73,
   "metadata": {
    "scrolled": true
   },
   "outputs": [
    {
     "data": {
      "image/png": "[encoded data removed]",
      "text/plain": [
       "<Figure size 720x288 with 2 Axes>"
      ]
     },
     "metadata": {
      "needs_background": "light"
     },
     "output_type": "display_data"
    }
   ],
   "source": [
    "# ЗАДАЧА NUMPY 1\n",
    "fig, axs = plt.subplots(1, 2)\n",
    "axs[0].hist(x=array.ravel(), bins=19, color='#00ff22', rwidth=0.85)\n",
    "axs[0].grid(axis='y')\n",
    "axs[0].set_xlabel('Value')\n",
    "axs[0].set_ylabel('Frequency')\n",
    "axs[0].set_title('Array')\n",
    "axs[0].set_xticks(np.arange(-10, 11, 2))\n",
    "axs[1].hist(x=sarray.ravel(), bins=19, color='#00fffb', rwidth=0.85)\n",
    "axs[1].grid(axis='y')\n",
    "axs[1].set_xlabel('Value')\n",
    "axs[1].set_ylabel('Frequency')\n",
    "axs[1].set_title('Array after changing elements')\n",
    "axs[1].set_xticks(np.arange(-10, 11, 2))\n",
    "\n",
    "fig.set_figwidth(10)\n",
    "plt.show()"
   ]
  },
  {
   "cell_type": "code",
   "execution_count": 74,
   "metadata": {},
   "outputs": [
    {
     "data": {
      "image/png": "[encoded data removed]",
      "text/plain": [
       "<Figure size 720x288 with 1 Axes>"
      ]
     },
     "metadata": {
      "needs_background": "light"
     },
     "output_type": "display_data"
    }
   ],
   "source": [
    "# ЗАДАЧА NUMPY 2\n",
    "fig = plt.figure()\n",
    "ax = fig.add_subplot(111)\n",
    "ax.bar(np.arange(0, 10), cosin1)\n",
    "ax.grid(axis='y')\n",
    "ax.set_xlabel('№ of column')\n",
    "ax.set_ylabel('cos distance')\n",
    "ax.set_title('NUMPY #2')\n",
    "ax.set_xticks(np.arange(0, 10))\n",
    "\n",
    "fig.set_figwidth(10)\n",
    "plt.show()"
   ]
  },
  {
   "cell_type": "code",
   "execution_count": 77,
   "metadata": {},
   "outputs": [
    {
     "data": {
      "image/png": "[encoded data removed]",
      "text/plain": [
       "<Figure size 432x288 with 1 Axes>"
      ]
     },
     "metadata": {
      "needs_background": "light"
     },
     "output_type": "display_data"
    }
   ],
   "source": [
    "# ЗАДАЧА NUMPY 3\n",
    "fig = plt.figure()\n",
    "px = fig.add_subplot(111)\n",
    "px.set(xlim = [0, 6], ylim = [-0.03, 1.4])\n",
    "px.plot(ax, ay, bx, by, cx, cy)\n",
    "plt.show()"
   ]
  },
  {
   "cell_type": "markdown",
   "metadata": {},
   "source": [
    "### 3. Scatter plot "
   ]
  },
  {
   "cell_type": "markdown",
   "metadata": {},
   "source": [
    " - Сгенерируйте 3 кластера двумерных данных.\n",
    " \n",
    "    Кластер - объединение данных с похожими признаками. Например, нам необходимо посчитать средний балл егэ по какому-то предмету(для определенности, математики) среди учеников 11 класса. \n",
    "    Мы можем рассматривать 3 класса(физмат, химбио и гум) как 3 кластера данных.\n",
    "    \n",
    " - Отразите эти данные на плоскости с помощью метода scatter. \n",
    " \n",
    " У вас должна получиться картинка, наподобие представленной ниже:\n",
    " \n",
    " ![img](https://www.r-graph-gallery.com/img/graph/274-map-a-variable-to-ggplot2-scatterplot.png)"
   ]
  },
  {
   "cell_type": "code",
   "execution_count": 81,
   "metadata": {},
   "outputs": [
    {
     "data": {
      "image/png": "[encoded data removed]",
      "text/plain": [
       "<Figure size 432x288 with 1 Axes>"
      ]
     },
     "metadata": {
      "needs_background": "light"
     },
     "output_type": "display_data"
    }
   ],
   "source": [
    "g1 = (np.random.randint(81, 101, 30), np.random.randint(65, 90, 30))\n",
    "g2 = (np.random.randint(63, 91, 30), np.random.randint(70, 95, 30))\n",
    "g3 = (np.random.randint(40, 71, 30), np.random.randint(86, 101, 30))\n",
    "\n",
    "data = (g1, g2, g3)\n",
    "colors = (\"red\", \"green\", \"blue\")\n",
    "groups = (\"физмат\", \"химбио\", \"соцгум\")\n",
    "\n",
    "fig = plt.figure()\n",
    "ax = fig.add_subplot(111)\n",
    "\n",
    "\n",
    "ax.set_title('Баллы за ЕГЭ у разных профилей классов')\n",
    "ax.set_xlabel(\"Русский язык\")\n",
    "ax.set_ylabel(\"Математика\")\n",
    "ax.grid()\n",
    "for i in range(len(data)):\n",
    "    x, y = data[i][1], data[i][0]\n",
    "    ax.scatter(x, y, c=colors[i], label=groups[i], alpha=0.5, s=90)\n",
    "plt.legend(loc=3)\n",
    "plt.show()"
   ]
  }
 ],
 "metadata": {
  "kernelspec": {
   "display_name": "Python 3",
   "language": "python",
   "name": "python3"
  },
  "language_info": {
   "codemirror_mode": {
    "name": "ipython",
    "version": 3
   },
   "file_extension": ".py",
   "mimetype": "text/x-python",
   "name": "python",
   "nbconvert_exporter": "python",
   "pygments_lexer": "ipython3",
   "version": "3.8.3"
  }
 },
 "nbformat": 4,
 "nbformat_minor": 4
}
